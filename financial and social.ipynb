{
 "cells": [
  {
   "cell_type": "code",
   "execution_count": 37,
   "metadata": {},
   "outputs": [],
   "source": [
    "import pandas as pd\n",
    "import numpy as np \n",
    "from sklearn import preprocessing, svm\n",
    "from sklearn.model_selection import train_test_split\n",
    "from sklearn.metrics import confusion_matrix, roc_auc_score, RocCurveDisplay\n",
    "from statistics import mean, median\n",
    "import matplotlib"
   ]
  },
  {
   "cell_type": "code",
   "execution_count": 38,
   "metadata": {},
   "outputs": [],
   "source": [
    "def get_st_momentum(num_days, closing_prices):\n",
    "    # Average of a stock's momentum over the past num_days. Each day is labeled 1 if\n",
    "    # the closing price that day is higher than the closing price of the day before, and -1 if its lower\n",
    "    momentum = []\n",
    "    stock_momentum = []\n",
    "\n",
    "    for i in range(num_days, len(closing_prices)):\n",
    "        momentum.append(1 if closing_prices[i] > closing_prices[i - 1] else -1)\n",
    "\n",
    "    for i in range(num_days, len(closing_prices)):\n",
    "        stock_momentum.append(mean(momentum[i - num_days:i]))\n",
    "\n",
    "    return stock_momentum"
   ]
  },
  {
   "cell_type": "code",
   "execution_count": 39,
   "metadata": {},
   "outputs": [],
   "source": [
    "def get_volatility(num_days, closing_prices):\n",
    "    # Stock price volatility. This is an average over the past num_days of\n",
    "    # percent change in a stock's price per day\n",
    "    volatility = []\n",
    "    avg_volatility = []\n",
    "\n",
    "    for i in range(num_days, len(closing_prices)):\n",
    "        volatility.append((closing_prices[i] - closing_prices[i-1])/closing_prices[i-1])\n",
    "\n",
    "    for i in range(num_days, len(closing_prices)):\n",
    "        avg_volatility.append(mean(volatility[i - num_days:i]))\n",
    "\n",
    "    return avg_volatility"
   ]
  },
  {
   "cell_type": "code",
   "execution_count": 40,
   "metadata": {},
   "outputs": [],
   "source": [
    "df_unedited  = pd.read_csv(\"C:\\\\Users\\\\Sepehr\\\\Desktop\\\\SN_Project_final\\\\3_Data_for_ML_Plot_withImportance\\\\topico_financial.csv\")\n",
    "Social_data_unedited = pd.read_csv(\"C:\\\\Users\\\\Sepehr\\\\Desktop\\\\SN_Project_final\\\\3_Data_for_ML_Plot_withImportance\\\\topico_social.csv\")\n",
    "num_days = 1 # prediction threshold\n",
    "n = 3 # number of days before \n",
    "\n",
    "social_data =  Social_data_unedited[Social_data_unedited.date.isin(df_unedited.date)]\n",
    "df = df_unedited[df_unedited.date.isin(social_data.date)]\n",
    "closing_prices = list(df['close'])\n",
    "\n",
    "social_data = social_data.iloc[n:,:]\n",
    "df = df.iloc[n:,:]\n",
    "df = df.merge(social_data, on='date')\n",
    "\n",
    "df['Stock_Momentum'] = get_st_momentum(n, closing_prices)\n",
    "df['Volatility'] = get_volatility(n, closing_prices)\n",
    "\n",
    "df = df[['date','Volatility', 'Stock_Momentum','imp. views']]\n",
    "df = df[:len(df)-num_days]"
   ]
  },
  {
   "cell_type": "code",
   "execution_count": 41,
   "metadata": {},
   "outputs": [
    {
     "name": "stdout",
     "output_type": "stream",
     "text": [
      "[[2.02009270e+07 1.04319470e-02 3.33333333e-01 2.51670562e+06]\n",
      " [2.02009280e+07 1.23368997e-02 3.33333333e-01 1.18549411e+06]\n",
      " [2.02009290e+07 3.80490609e-02 1.00000000e+00 2.39069336e+06]\n",
      " ...\n",
      " [2.02201250e+07 1.41048466e-02 3.33333333e-01 1.59809478e+05]\n",
      " [2.02201260e+07 3.94761199e-02 1.00000000e+00 3.07859668e+05]\n",
      " [2.02201290e+07 4.10008234e-02 1.00000000e+00 2.08660167e+05]]\n"
     ]
    }
   ],
   "source": [
    "X = np.array(df)\n",
    "    \n",
    "# Create Y vector; defined as whether a stock will increase or decrease in price in num_days\n",
    "Y = []\n",
    "for i in range(len(closing_prices)-num_days):\n",
    "    if (closing_prices[i+num_days]- closing_prices[i])/closing_prices[i] > 0.005 :\n",
    "        Y.append(1)\n",
    "    if (closing_prices[i+num_days]- closing_prices[i])/closing_prices[i] < -0.005 :\n",
    "        Y.append(-1)\n",
    "    if (closing_prices[i+num_days]- closing_prices[i])/closing_prices[i] >= -0.005 and (closing_prices[i+num_days]- closing_prices[i])/closing_prices[i] <= 0.005 :\n",
    "        Y.append(0)\n",
    "\n",
    "\n",
    "# Adjust length of Y to match X if needed\n",
    "if len(Y) > len(X):\n",
    "    adjustment = len(Y) - len(X)\n",
    "    Y = Y[adjustment:]   \n",
    "\n",
    "#n = 5\n",
    "#X_test_new = X[-n:, :]\n",
    "#Y_test_new = Y[-n:]\n",
    "#print(Y)\n",
    "#X = X[:-n, :]\n",
    "#Y = Y[:-n]\n",
    "print(X)"
   ]
  },
  {
   "cell_type": "code",
   "execution_count": 42,
   "metadata": {},
   "outputs": [],
   "source": [
    "# Split training and testing sets\n",
    "X_train, X_test, Y_train, Y_test = train_test_split(X, Y, test_size = 0.3,shuffle=False,random_state = 0)"
   ]
  },
  {
   "cell_type": "code",
   "execution_count": 43,
   "metadata": {},
   "outputs": [
    {
     "data": {
      "text/html": [
       "<div>\n",
       "<style scoped>\n",
       "    .dataframe tbody tr th:only-of-type {\n",
       "        vertical-align: middle;\n",
       "    }\n",
       "\n",
       "    .dataframe tbody tr th {\n",
       "        vertical-align: top;\n",
       "    }\n",
       "\n",
       "    .dataframe thead th {\n",
       "        text-align: right;\n",
       "    }\n",
       "</style>\n",
       "<table border=\"1\" class=\"dataframe\">\n",
       "  <thead>\n",
       "    <tr style=\"text-align: right;\">\n",
       "      <th></th>\n",
       "      <th>0</th>\n",
       "      <th>1</th>\n",
       "      <th>2</th>\n",
       "      <th>3</th>\n",
       "    </tr>\n",
       "  </thead>\n",
       "  <tbody>\n",
       "    <tr>\n",
       "      <th>0</th>\n",
       "      <td>20210911.0</td>\n",
       "      <td>-0.006562</td>\n",
       "      <td>-0.333333</td>\n",
       "      <td>238067.13230</td>\n",
       "    </tr>\n",
       "    <tr>\n",
       "      <th>1</th>\n",
       "      <td>20210912.0</td>\n",
       "      <td>-0.006689</td>\n",
       "      <td>-0.333333</td>\n",
       "      <td>85370.45770</td>\n",
       "    </tr>\n",
       "    <tr>\n",
       "      <th>2</th>\n",
       "      <td>20210913.0</td>\n",
       "      <td>0.001269</td>\n",
       "      <td>-0.333333</td>\n",
       "      <td>28288.59838</td>\n",
       "    </tr>\n",
       "    <tr>\n",
       "      <th>3</th>\n",
       "      <td>20210914.0</td>\n",
       "      <td>-0.002815</td>\n",
       "      <td>-0.333333</td>\n",
       "      <td>42554.10737</td>\n",
       "    </tr>\n",
       "    <tr>\n",
       "      <th>4</th>\n",
       "      <td>20210915.0</td>\n",
       "      <td>-0.014081</td>\n",
       "      <td>-1.000000</td>\n",
       "      <td>26257.37735</td>\n",
       "    </tr>\n",
       "    <tr>\n",
       "      <th>...</th>\n",
       "      <td>...</td>\n",
       "      <td>...</td>\n",
       "      <td>...</td>\n",
       "      <td>...</td>\n",
       "    </tr>\n",
       "    <tr>\n",
       "      <th>93</th>\n",
       "      <td>20220123.0</td>\n",
       "      <td>-0.041409</td>\n",
       "      <td>-1.000000</td>\n",
       "      <td>131231.54500</td>\n",
       "    </tr>\n",
       "    <tr>\n",
       "      <th>94</th>\n",
       "      <td>20220124.0</td>\n",
       "      <td>-0.014752</td>\n",
       "      <td>-0.333333</td>\n",
       "      <td>172048.40910</td>\n",
       "    </tr>\n",
       "    <tr>\n",
       "      <th>95</th>\n",
       "      <td>20220125.0</td>\n",
       "      <td>0.014105</td>\n",
       "      <td>0.333333</td>\n",
       "      <td>159809.47820</td>\n",
       "    </tr>\n",
       "    <tr>\n",
       "      <th>96</th>\n",
       "      <td>20220126.0</td>\n",
       "      <td>0.039476</td>\n",
       "      <td>1.000000</td>\n",
       "      <td>307859.66760</td>\n",
       "    </tr>\n",
       "    <tr>\n",
       "      <th>97</th>\n",
       "      <td>20220129.0</td>\n",
       "      <td>0.041001</td>\n",
       "      <td>1.000000</td>\n",
       "      <td>208660.16680</td>\n",
       "    </tr>\n",
       "  </tbody>\n",
       "</table>\n",
       "<p>98 rows × 4 columns</p>\n",
       "</div>"
      ],
      "text/plain": [
       "             0         1         2             3\n",
       "0   20210911.0 -0.006562 -0.333333  238067.13230\n",
       "1   20210912.0 -0.006689 -0.333333   85370.45770\n",
       "2   20210913.0  0.001269 -0.333333   28288.59838\n",
       "3   20210914.0 -0.002815 -0.333333   42554.10737\n",
       "4   20210915.0 -0.014081 -1.000000   26257.37735\n",
       "..         ...       ...       ...           ...\n",
       "93  20220123.0 -0.041409 -1.000000  131231.54500\n",
       "94  20220124.0 -0.014752 -0.333333  172048.40910\n",
       "95  20220125.0  0.014105  0.333333  159809.47820\n",
       "96  20220126.0  0.039476  1.000000  307859.66760\n",
       "97  20220129.0  0.041001  1.000000  208660.16680\n",
       "\n",
       "[98 rows x 4 columns]"
      ]
     },
     "execution_count": 43,
     "metadata": {},
     "output_type": "execute_result"
    }
   ],
   "source": [
    "X_test = pd.DataFrame(X_test)\n",
    "#X_test_new = pd.DataFrame(X_test_new)\n",
    "X_train = pd.DataFrame(X_train)\n",
    "dates = X_test[0]\n",
    "#dates = X_test_new[0]\n",
    "X_test"
   ]
  },
  {
   "cell_type": "code",
   "execution_count": 44,
   "metadata": {},
   "outputs": [
    {
     "data": {
      "text/html": [
       "<div>\n",
       "<style scoped>\n",
       "    .dataframe tbody tr th:only-of-type {\n",
       "        vertical-align: middle;\n",
       "    }\n",
       "\n",
       "    .dataframe tbody tr th {\n",
       "        vertical-align: top;\n",
       "    }\n",
       "\n",
       "    .dataframe thead th {\n",
       "        text-align: right;\n",
       "    }\n",
       "</style>\n",
       "<table border=\"1\" class=\"dataframe\">\n",
       "  <thead>\n",
       "    <tr style=\"text-align: right;\">\n",
       "      <th></th>\n",
       "      <th>1</th>\n",
       "      <th>2</th>\n",
       "      <th>3</th>\n",
       "    </tr>\n",
       "  </thead>\n",
       "  <tbody>\n",
       "    <tr>\n",
       "      <th>0</th>\n",
       "      <td>-0.006562</td>\n",
       "      <td>-0.333333</td>\n",
       "      <td>238067.13230</td>\n",
       "    </tr>\n",
       "    <tr>\n",
       "      <th>1</th>\n",
       "      <td>-0.006689</td>\n",
       "      <td>-0.333333</td>\n",
       "      <td>85370.45770</td>\n",
       "    </tr>\n",
       "    <tr>\n",
       "      <th>2</th>\n",
       "      <td>0.001269</td>\n",
       "      <td>-0.333333</td>\n",
       "      <td>28288.59838</td>\n",
       "    </tr>\n",
       "    <tr>\n",
       "      <th>3</th>\n",
       "      <td>-0.002815</td>\n",
       "      <td>-0.333333</td>\n",
       "      <td>42554.10737</td>\n",
       "    </tr>\n",
       "    <tr>\n",
       "      <th>4</th>\n",
       "      <td>-0.014081</td>\n",
       "      <td>-1.000000</td>\n",
       "      <td>26257.37735</td>\n",
       "    </tr>\n",
       "    <tr>\n",
       "      <th>...</th>\n",
       "      <td>...</td>\n",
       "      <td>...</td>\n",
       "      <td>...</td>\n",
       "    </tr>\n",
       "    <tr>\n",
       "      <th>93</th>\n",
       "      <td>-0.041409</td>\n",
       "      <td>-1.000000</td>\n",
       "      <td>131231.54500</td>\n",
       "    </tr>\n",
       "    <tr>\n",
       "      <th>94</th>\n",
       "      <td>-0.014752</td>\n",
       "      <td>-0.333333</td>\n",
       "      <td>172048.40910</td>\n",
       "    </tr>\n",
       "    <tr>\n",
       "      <th>95</th>\n",
       "      <td>0.014105</td>\n",
       "      <td>0.333333</td>\n",
       "      <td>159809.47820</td>\n",
       "    </tr>\n",
       "    <tr>\n",
       "      <th>96</th>\n",
       "      <td>0.039476</td>\n",
       "      <td>1.000000</td>\n",
       "      <td>307859.66760</td>\n",
       "    </tr>\n",
       "    <tr>\n",
       "      <th>97</th>\n",
       "      <td>0.041001</td>\n",
       "      <td>1.000000</td>\n",
       "      <td>208660.16680</td>\n",
       "    </tr>\n",
       "  </tbody>\n",
       "</table>\n",
       "<p>98 rows × 3 columns</p>\n",
       "</div>"
      ],
      "text/plain": [
       "           1         2             3\n",
       "0  -0.006562 -0.333333  238067.13230\n",
       "1  -0.006689 -0.333333   85370.45770\n",
       "2   0.001269 -0.333333   28288.59838\n",
       "3  -0.002815 -0.333333   42554.10737\n",
       "4  -0.014081 -1.000000   26257.37735\n",
       "..       ...       ...           ...\n",
       "93 -0.041409 -1.000000  131231.54500\n",
       "94 -0.014752 -0.333333  172048.40910\n",
       "95  0.014105  0.333333  159809.47820\n",
       "96  0.039476  1.000000  307859.66760\n",
       "97  0.041001  1.000000  208660.16680\n",
       "\n",
       "[98 rows x 3 columns]"
      ]
     },
     "execution_count": 44,
     "metadata": {},
     "output_type": "execute_result"
    }
   ],
   "source": [
    "X_test = X_test.iloc[:, 1:4]\n",
    "#X_test_new = X_test_new.iloc[:, 1:4]\n",
    "X_train = X_train.iloc[:,1:4]\n",
    "X_test"
   ]
  },
  {
   "cell_type": "code",
   "execution_count": 45,
   "metadata": {},
   "outputs": [
    {
     "data": {
      "text/plain": [
       "array([[-6.56217409e-03, -3.33333333e-01,  2.38067132e+05],\n",
       "       [-6.68855291e-03, -3.33333333e-01,  8.53704577e+04],\n",
       "       [ 1.26888663e-03, -3.33333333e-01,  2.82885984e+04],\n",
       "       [-2.81504646e-03, -3.33333333e-01,  4.25541074e+04],\n",
       "       [-1.40814912e-02, -1.00000000e+00,  2.62573773e+04],\n",
       "       [-9.88988957e-03, -3.33333333e-01,  9.38808622e+04],\n",
       "       [-1.43225289e-02, -3.33333333e-01,  3.24748774e+04],\n",
       "       [-6.35144230e-03,  3.33333333e-01,  2.24557559e+05],\n",
       "       [ 6.46497289e-03,  3.33333333e-01,  5.35674661e+04],\n",
       "       [ 1.54437684e-02,  3.33333333e-01,  4.46668994e+04],\n",
       "       [ 9.44613991e-03, -3.33333333e-01,  3.15621657e+05],\n",
       "       [ 6.29624668e-03, -3.33333333e-01,  1.16595177e+05],\n",
       "       [ 2.50182012e-02,  3.33333333e-01,  5.60927667e+04],\n",
       "       [ 4.39996033e-02,  1.00000000e+00,  1.74758574e+05],\n",
       "       [ 3.17986215e-02,  1.00000000e+00,  3.17025549e+05],\n",
       "       [ 1.55150966e-02,  3.33333333e-01,  7.75799386e+05],\n",
       "       [-1.50522132e-02, -3.33333333e-01,  9.50508013e+04],\n",
       "       [-1.27556456e-02, -3.33333333e-01,  2.56663145e+04],\n",
       "       [-1.29825573e-02, -3.33333333e-01,  4.78128688e+05],\n",
       "       [-1.13360294e-02, -3.33333333e-01,  1.43670775e+05],\n",
       "       [-1.64550566e-02, -1.00000000e+00,  5.57003487e+04],\n",
       "       [-2.90029660e-06, -3.33333333e-01,  1.03705785e+05],\n",
       "       [ 9.29798348e-03, -3.33333333e-01,  6.64996167e+04],\n",
       "       [ 1.28242341e-02,  3.33333333e-01,  3.36438904e+05],\n",
       "       [-1.10215994e-03,  3.33333333e-01,  7.25376516e+04],\n",
       "       [ 1.85107147e-03,  3.33333333e-01,  2.38116464e+04],\n",
       "       [-1.44309391e-02, -3.33333333e-01,  6.47041788e+04],\n",
       "       [-2.27379608e-02, -1.00000000e+00,  6.18897187e+04],\n",
       "       [-2.06338834e-02, -3.33333333e-01,  2.81754686e+05],\n",
       "       [-4.54135599e-03,  3.33333333e-01,  8.72420556e+04],\n",
       "       [-3.89380866e-03,  3.33333333e-01,  1.12242551e+04],\n",
       "       [-1.82486273e-02, -3.33333333e-01,  9.07602567e+04],\n",
       "       [-1.04607013e-02, -3.33333333e-01,  8.86513682e+04],\n",
       "       [-3.84126585e-03,  3.33333333e-01,  9.63131288e+04],\n",
       "       [ 1.52972717e-02,  1.00000000e+00,  1.51821049e+04],\n",
       "       [ 2.30609789e-02,  1.00000000e+00,  1.03467733e+06],\n",
       "       [ 2.20374060e-02,  1.00000000e+00,  4.72074680e+05],\n",
       "       [ 2.16910759e-02,  1.00000000e+00,  5.18139957e+05],\n",
       "       [ 1.25827679e-02,  1.00000000e+00,  5.73242693e+04],\n",
       "       [ 1.23475291e-02,  3.33333333e-01,  2.10626953e+05],\n",
       "       [ 5.13649697e-03, -3.33333333e-01,  4.73189328e+05],\n",
       "       [ 1.15254550e-03, -3.33333333e-01,  1.32771018e+05],\n",
       "       [-7.88087816e-03, -3.33333333e-01,  8.42045641e+04],\n",
       "       [-5.60932293e-03,  3.33333333e-01,  4.69039560e+05],\n",
       "       [-1.08889801e-02, -3.33333333e-01,  6.11304348e+04],\n",
       "       [-1.35268916e-02, -3.33333333e-01,  3.87508235e+04],\n",
       "       [ 2.90808208e-05, -3.33333333e-01,  2.23883740e+04],\n",
       "       [ 1.44280295e-02,  3.33333333e-01,  1.28692189e+05],\n",
       "       [ 2.02749919e-02,  3.33333333e-01,  6.26331863e+05],\n",
       "       [ 2.38292604e-03, -3.33333333e-01,  9.28662861e+05],\n",
       "       [-2.28553944e-02, -1.00000000e+00,  9.68357903e+05],\n",
       "       [-1.51097921e-02, -3.33333333e-01,  1.11546578e+05],\n",
       "       [-1.14833798e-02, -3.33333333e-01,  1.55400345e+05],\n",
       "       [-1.42576579e-03, -3.33333333e-01,  1.15546499e+05],\n",
       "       [-1.39596341e-02, -1.00000000e+00,  1.37964035e+04],\n",
       "       [-1.17381828e-02, -3.33333333e-01,  2.77502739e+04],\n",
       "       [ 3.01022235e-04,  3.33333333e-01,  8.18492345e+04],\n",
       "       [ 1.04312683e-02,  3.33333333e-01,  1.27658913e+05],\n",
       "       [ 9.17046368e-03,  3.33333333e-01,  1.23367167e+05],\n",
       "       [ 6.75419647e-03,  3.33333333e-01,  1.57352339e+04],\n",
       "       [ 6.29096266e-03,  3.33333333e-01,  1.31338029e+05],\n",
       "       [ 2.48876229e-03, -3.33333333e-01,  1.20480018e+05],\n",
       "       [-8.57507989e-03, -1.00000000e+00,  5.24263866e+05],\n",
       "       [-7.62945341e-03, -1.00000000e+00,  4.17401533e+05],\n",
       "       [-3.82514347e-03, -3.33333333e-01,  2.07279016e+04],\n",
       "       [ 4.11892229e-03,  3.33333333e-01,  3.02829538e+04],\n",
       "       [ 1.72256475e-03,  3.33333333e-01,  3.25757430e+04],\n",
       "       [ 4.85792820e-03,  3.33333333e-01,  1.09755434e+05],\n",
       "       [ 1.00589733e-02,  3.33333333e-01,  3.85140318e+04],\n",
       "       [ 2.57142282e-02,  1.00000000e+00,  5.60510803e+04],\n",
       "       [ 2.47782272e-02,  1.00000000e+00,  8.88731946e+04],\n",
       "       [ 1.23926400e-02,  3.33333333e-01,  1.98173346e+05],\n",
       "       [ 2.72279602e-03,  3.33333333e-01,  1.46584132e+05],\n",
       "       [-8.49473022e-04, -3.33333333e-01,  8.81974360e+04],\n",
       "       [ 3.14638593e-03,  3.33333333e-01,  2.71419358e+04],\n",
       "       [-6.22044523e-03, -3.33333333e-01,  3.01339539e+04],\n",
       "       [-5.55888197e-03, -3.33333333e-01,  2.59640829e+04],\n",
       "       [-9.17205738e-03, -1.00000000e+00,  5.53083796e+04],\n",
       "       [-7.04975139e-03, -1.00000000e+00,  9.32249605e+04],\n",
       "       [-6.13060868e-03, -3.33333333e-01,  8.90141308e+04],\n",
       "       [-3.19299207e-03, -3.33333333e-01,  3.23342275e+04],\n",
       "       [-4.84317196e-03, -3.33333333e-01,  2.76899676e+04],\n",
       "       [-8.11470054e-03, -1.00000000e+00,  3.13980325e+04],\n",
       "       [-1.16640048e-02, -1.00000000e+00,  7.45474784e+04],\n",
       "       [-1.16152229e-02, -1.00000000e+00,  1.99633453e+04],\n",
       "       [-1.46205745e-02, -1.00000000e+00,  4.72069077e+05],\n",
       "       [-1.45444531e-02, -1.00000000e+00,  1.60073420e+05],\n",
       "       [-1.05360227e-02, -1.00000000e+00,  6.94122252e+04],\n",
       "       [-1.64809652e-02, -1.00000000e+00,  4.24119573e+04],\n",
       "       [-8.62357511e-03, -3.33333333e-01,  2.10882144e+04],\n",
       "       [-5.06744335e-03,  3.33333333e-01,  6.40860996e+04],\n",
       "       [-8.05351816e-03,  3.33333333e-01,  1.03262698e+05],\n",
       "       [-2.71166827e-02, -3.33333333e-01,  6.57579764e+04],\n",
       "       [-4.14087675e-02, -1.00000000e+00,  1.31231545e+05],\n",
       "       [-1.47516329e-02, -3.33333333e-01,  1.72048409e+05],\n",
       "       [ 1.41048466e-02,  3.33333333e-01,  1.59809478e+05],\n",
       "       [ 3.94761199e-02,  1.00000000e+00,  3.07859668e+05],\n",
       "       [ 4.10008234e-02,  1.00000000e+00,  2.08660167e+05]])"
      ]
     },
     "execution_count": 45,
     "metadata": {},
     "output_type": "execute_result"
    }
   ],
   "source": [
    "X_test = np.array(X_test)\n",
    "#X_test_new = np.array(X_test_new)\n",
    "X_test"
   ]
  },
  {
   "cell_type": "code",
   "execution_count": 46,
   "metadata": {},
   "outputs": [],
   "source": [
    "X_train = np.array(X_train)"
   ]
  },
  {
   "cell_type": "code",
   "execution_count": 47,
   "metadata": {},
   "outputs": [],
   "source": [
    "X_test = preprocessing.scale(X_test)\n",
    "#X_test_new = preprocessing.scale(X_test_new)\n",
    "X_train = preprocessing.scale(X_train)"
   ]
  },
  {
   "cell_type": "code",
   "execution_count": 48,
   "metadata": {},
   "outputs": [
    {
     "data": {
      "text/plain": [
       "SVC()"
      ]
     },
     "execution_count": 48,
     "metadata": {},
     "output_type": "execute_result"
    }
   ],
   "source": [
    "# Construct and build classifier\n",
    "clf = svm.SVC(kernel='rbf', gamma='scale')\n",
    "clf.fit(X_train, Y_train)"
   ]
  },
  {
   "cell_type": "code",
   "execution_count": 49,
   "metadata": {},
   "outputs": [
    {
     "name": "stdout",
     "output_type": "stream",
     "text": [
      "score = 0.622449\n"
     ]
    }
   ],
   "source": [
    "# Calculate accuracy\n",
    "score = clf.score(X_test, Y_test)\n",
    "#score2 = clf.score(X_test_new, Y_test_new)\n",
    "print(\"score = %f\" %score)\n",
    "#print(\"score = %f\" %score2)"
   ]
  },
  {
   "cell_type": "code",
   "execution_count": 50,
   "metadata": {},
   "outputs": [],
   "source": [
    "predicted = pd.DataFrame([clf.predict(X_test),Y_test])\n",
    "predicted = predicted.transpose()\n",
    "predicted = predicted.rename(columns={0:'Predicted',1:'True'})"
   ]
  },
  {
   "cell_type": "code",
   "execution_count": 51,
   "metadata": {},
   "outputs": [],
   "source": [
    "predicted['Dates'] = dates\n",
    "predicted = predicted [['Dates','Predicted','True']]"
   ]
  },
  {
   "cell_type": "code",
   "execution_count": 52,
   "metadata": {},
   "outputs": [
    {
     "name": "stdout",
     "output_type": "stream",
     "text": [
      "score = 0.622449\n"
     ]
    }
   ],
   "source": [
    "predicted.to_csv('Combo_indicator.csv', index = False)\n",
    "print(\"score = %f\" %score)"
   ]
  }
 ],
 "metadata": {
  "interpreter": {
   "hash": "2be5faf79681da6f2a61fdfdd5405d65d042280f7fba6178067603e3a2925119"
  },
  "kernelspec": {
   "display_name": "Python 3.10.1 64-bit",
   "language": "python",
   "name": "python3"
  },
  "language_info": {
   "codemirror_mode": {
    "name": "ipython",
    "version": 3
   },
   "file_extension": ".py",
   "mimetype": "text/x-python",
   "name": "python",
   "nbconvert_exporter": "python",
   "pygments_lexer": "ipython3",
   "version": "3.8.6"
  },
  "orig_nbformat": 4
 },
 "nbformat": 4,
 "nbformat_minor": 2
}
