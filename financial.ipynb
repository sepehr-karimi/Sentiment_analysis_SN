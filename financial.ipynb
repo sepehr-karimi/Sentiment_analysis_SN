{
 "cells": [
  {
   "cell_type": "code",
   "execution_count": 2,
   "metadata": {},
   "outputs": [],
   "source": [
    "import pandas as pd\n",
    "import numpy as np \n",
    "from sklearn import preprocessing, svm\n",
    "from sklearn.model_selection import train_test_split\n",
    "from sklearn.metrics import confusion_matrix, roc_auc_score, RocCurveDisplay\n",
    "from statistics import mean, median\n",
    "import matplotlib"
   ]
  },
  {
   "cell_type": "code",
   "execution_count": 3,
   "metadata": {},
   "outputs": [],
   "source": [
    "def get_st_momentum(num_days, closing_prices):\n",
    "    # Average of a stock's momentum over the past num_days. Each day is labeled 1 if\n",
    "    # the closing price that day is higher than the closing price of the day before, and -1 if its lower\n",
    "    momentum = []\n",
    "    stock_momentum = []\n",
    "\n",
    "    for i in range(num_days, len(closing_prices)):\n",
    "        momentum.append(1 if closing_prices[i] > closing_prices[i - 1] else -1)\n",
    "\n",
    "    for i in range(num_days, len(closing_prices)):\n",
    "        stock_momentum.append(mean(momentum[i - num_days:i]))\n",
    "\n",
    "    return stock_momentum"
   ]
  },
  {
   "cell_type": "code",
   "execution_count": 4,
   "metadata": {},
   "outputs": [],
   "source": [
    "def get_volatility(num_days, closing_prices):\n",
    "    # Stock price volatility. This is an average over the past num_days of\n",
    "    # percent change in a stock's price per day\n",
    "    volatility = []\n",
    "    avg_volatility = []\n",
    "\n",
    "    for i in range(num_days, len(closing_prices)):\n",
    "        volatility.append((closing_prices[i] - closing_prices[i-1])/closing_prices[i-1])\n",
    "\n",
    "    for i in range(num_days, len(closing_prices)):\n",
    "        avg_volatility.append(mean(volatility[i - num_days:i]))\n",
    "\n",
    "    return avg_volatility"
   ]
  },
  {
   "cell_type": "code",
   "execution_count": 5,
   "metadata": {},
   "outputs": [],
   "source": [
    "df  = pd.read_csv(\"C:\\\\Users\\\\Sepehr\\\\Desktop\\\\SN_Project_final\\\\3_Data_for_ML_Plot_withImportance\\\\topico_financial.csv\")\n",
    "num_days = 1 # prediction threshold\n",
    "n = 3 # number of days before \n",
    "    \n",
    "closing_prices = list(df['close'])\n",
    "    \n",
    "#feature vectors\n",
    "df = df[n:]\n",
    "df['Stock_Momentum'] = get_st_momentum(n, closing_prices)\n",
    "df['Volatility'] = get_volatility(n, closing_prices)\n",
    "df = df[['date','Volatility', 'Stock_Momentum']]\n",
    "\n",
    "    \n",
    "df = df[:len(df)-num_days]\n",
    "    \n",
    "#convert input features into array\n",
    "    \n",
    "X = np.array(df)\n",
    "    \n",
    "# Create Y vector; defined as whether a stock will increase or decrease in price in num_days\n",
    "Y = []\n",
    "for i in range(len(closing_prices)-num_days):\n",
    "    if (closing_prices[i+num_days]- closing_prices[i])/closing_prices[i] > 0.005 :\n",
    "        Y.append(1)\n",
    "    if (closing_prices[i+num_days]- closing_prices[i])/closing_prices[i] < -0.005 :\n",
    "        Y.append(-1)\n",
    "    if (closing_prices[i+num_days]- closing_prices[i])/closing_prices[i] >= -0.005 and (closing_prices[i+num_days]- closing_prices[i])/closing_prices[i] <= 0.005 :\n",
    "        Y.append(0)\n",
    "\n",
    "\n",
    "# Adjust length of Y to match X if needed\n",
    "if len(Y) > len(X):\n",
    "    adjustment = len(Y) - len(X)\n",
    "    Y = Y[adjustment:]    \n",
    "\n",
    "\n",
    "    \n"
   ]
  },
  {
   "cell_type": "code",
   "execution_count": 6,
   "metadata": {},
   "outputs": [],
   "source": [
    "# Split training and testing sets\n",
    "X_train, X_test, Y_train, Y_test = train_test_split(X, Y, test_size = 0.25, shuffle= False, random_state = 0)"
   ]
  },
  {
   "cell_type": "code",
   "execution_count": 7,
   "metadata": {},
   "outputs": [
    {
     "data": {
      "text/plain": [
       "0      20210522.0\n",
       "1      20210523.0\n",
       "2      20210524.0\n",
       "3      20210525.0\n",
       "4      20210526.0\n",
       "          ...    \n",
       "168    20220130.0\n",
       "169    20220131.0\n",
       "170    20220201.0\n",
       "171    20220202.0\n",
       "172    20220205.0\n",
       "Name: 0, Length: 173, dtype: float64"
      ]
     },
     "execution_count": 7,
     "metadata": {},
     "output_type": "execute_result"
    }
   ],
   "source": [
    "X_test = pd.DataFrame(X_test)\n",
    "X_train = pd.DataFrame(X_train)\n",
    "dates = X_test[0]\n",
    "dates"
   ]
  },
  {
   "cell_type": "code",
   "execution_count": 8,
   "metadata": {},
   "outputs": [],
   "source": [
    "X_test = X_test.iloc[:, 1:3]\n",
    "X_train = X_train.iloc[:,1:3]\n"
   ]
  },
  {
   "cell_type": "code",
   "execution_count": 9,
   "metadata": {},
   "outputs": [],
   "source": [
    "X_test = np.array(X_test)\n"
   ]
  },
  {
   "cell_type": "code",
   "execution_count": 10,
   "metadata": {},
   "outputs": [],
   "source": [
    "X_train = np.array(X_train)"
   ]
  },
  {
   "cell_type": "code",
   "execution_count": 11,
   "metadata": {},
   "outputs": [],
   "source": [
    "X_test = preprocessing.scale(X_test)\n",
    "X_train = preprocessing.scale(X_train)"
   ]
  },
  {
   "cell_type": "code",
   "execution_count": 12,
   "metadata": {},
   "outputs": [
    {
     "data": {
      "text/plain": [
       "SVC()"
      ]
     },
     "execution_count": 12,
     "metadata": {},
     "output_type": "execute_result"
    }
   ],
   "source": [
    "# Construct and build classifier\n",
    "clf = svm.SVC(kernel='rbf', gamma='scale')\n",
    "clf.fit(X_train, Y_train)"
   ]
  },
  {
   "cell_type": "code",
   "execution_count": 13,
   "metadata": {},
   "outputs": [],
   "source": [
    "# Calculate accuracy\n",
    "score = clf.score(X_test, Y_test)\n"
   ]
  },
  {
   "cell_type": "code",
   "execution_count": 14,
   "metadata": {},
   "outputs": [],
   "source": [
    "predicted = pd.DataFrame([clf.predict(X_test),Y_test])\n",
    "predicted = predicted.transpose()\n",
    "predicted = predicted.rename(columns={0:'Predicted',1:'True'})"
   ]
  },
  {
   "cell_type": "code",
   "execution_count": 15,
   "metadata": {},
   "outputs": [],
   "source": [
    "predicted['Dates'] = dates\n",
    "predicted = predicted [['Dates','Predicted','True']]"
   ]
  },
  {
   "cell_type": "code",
   "execution_count": 16,
   "metadata": {},
   "outputs": [
    {
     "name": "stdout",
     "output_type": "stream",
     "text": [
      "score = 0.676301\n"
     ]
    }
   ],
   "source": [
    "predicted.to_csv('financial_indicator.csv', index = False)\n",
    "print(\"score = %f\" %score)"
   ]
  }
 ],
 "metadata": {
  "interpreter": {
   "hash": "2be5faf79681da6f2a61fdfdd5405d65d042280f7fba6178067603e3a2925119"
  },
  "kernelspec": {
   "display_name": "Python 3.10.1 64-bit",
   "language": "python",
   "name": "python3"
  },
  "language_info": {
   "codemirror_mode": {
    "name": "ipython",
    "version": 3
   },
   "file_extension": ".py",
   "mimetype": "text/x-python",
   "name": "python",
   "nbconvert_exporter": "python",
   "pygments_lexer": "ipython3",
   "version": "3.8.6"
  },
  "orig_nbformat": 4
 },
 "nbformat": 4,
 "nbformat_minor": 2
}
